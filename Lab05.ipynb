{
 "cells": [
  {
   "cell_type": "markdown",
   "metadata": {},
   "source": [
    "# Write a program for collecting a string from the user and counting the number of vowels.\n",
    "* Print the total count of vowels\n",
    "* Print each vowel and its count\n",
    "* Calculate the percentage of vowels in the given string"
   ]
  },
  {
   "cell_type": "code",
   "execution_count": 1,
   "metadata": {},
   "outputs": [
    {
     "name": "stdout",
     "output_type": "stream",
     "text": [
      "The number of vowels is :4\n",
      "The number of vowel A is :3\n",
      "The number of vowel E is :0\n",
      "The number of vowel I is :1\n",
      "The number of vowel O is :0\n",
      "The number of vowel U is :0\n",
      "The percentage of vowels in the given string:33.33333333333333\n"
     ]
    }
   ],
   "source": [
    "def Vowel_Counter(user_input):\n",
    "    count = 0\n",
    "    a_count=0\n",
    "    e_count=0\n",
    "    i_count=0\n",
    "    o_count=0\n",
    "    u_count=0\n",
    "    vowel = \"AEIOU\"\n",
    "    for i in user_input:\n",
    "        if i in vowel:\n",
    "            count = count + 1\t\n",
    "            if i ==\"A\":\n",
    "              a_count = a_count + 1\n",
    "            elif i ==\"E\":\n",
    "              e_count = e_count + 1\n",
    "            elif i ==\"I\":\n",
    "              i_count = i_count + 1\n",
    "            elif i ==\"O\":\n",
    "              o_count = o_count + 1\n",
    "            elif i ==\"U\":\n",
    "              u_count = u_count + 1\n",
    "    percentage= (count/len(user_input))*100\n",
    "    return count,a_count,e_count,i_count,o_count,u_count,percentage\n",
    "user_input=input(\"enter the string: \").upper()\n",
    "count,a,e,i,o,u,percent = Vowel_Counter(user_input)\n",
    "print(f\"The number of vowels is :{count}\")\n",
    "print(f\"The number of vowel A is :{a}\")\n",
    "print(f\"The number of vowel E is :{e}\")\n",
    "print(f\"The number of vowel I is :{i}\")\n",
    "print(f\"The number of vowel O is :{o}\")\n",
    "print(f\"The number of vowel U is :{u}\")\n",
    "print(f\"The percentage of vowels in the given string:{percent}\")"
   ]
  }
 ],
 "metadata": {
  "kernelspec": {
   "display_name": "Python 3",
   "language": "python",
   "name": "python3"
  },
  "language_info": {
   "codemirror_mode": {
    "name": "ipython",
    "version": 3
   },
   "file_extension": ".py",
   "mimetype": "text/x-python",
   "name": "python",
   "nbconvert_exporter": "python",
   "pygments_lexer": "ipython3",
   "version": "3.11.4"
  },
  "orig_nbformat": 4
 },
 "nbformat": 4,
 "nbformat_minor": 2
}
