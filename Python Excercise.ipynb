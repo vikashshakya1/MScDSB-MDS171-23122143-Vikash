{
 "cells": [
  {
   "cell_type": "code",
   "execution_count": 10,
   "metadata": {},
   "outputs": [
    {
     "name": "stdout",
     "output_type": "stream",
     "text": [
      "Shubhii-Vikash\n"
     ]
    }
   ],
   "source": [
    "#end('/n) default settting for new line in print\n",
    "#we can change it by overriding the command like we did in the below code by changing it to hyphen instead of a new line.\n",
    "\n",
    "print(\"Shubhii\",end='-')\n",
    "print(\"Vikash\")"
   ]
  },
  {
   "cell_type": "markdown",
   "metadata": {},
   "source": [
    "  DATA TYPES  "
   ]
  },
  {
   "cell_type": "code",
   "execution_count": 14,
   "metadata": {},
   "outputs": [
    {
     "data": {
      "text/plain": [
       "100000000000000001097906362944045541740492309677311846336810682903157585404911491537163328978494688899061249669721172515611590283743140088328307009198146046031271664502933027185697489699588559043338384466165001178426897626212945177628091195786707458122783970171784415105291802893207873272974885715430223118336"
      ]
     },
     "execution_count": 14,
     "metadata": {},
     "output_type": "execute_result"
    }
   ],
   "source": [
    "#integer\n",
    "int(8)\n",
    "#can handle upto 3*10^308 values.\n",
    "int(1e308)"
   ]
  },
  {
   "cell_type": "code",
   "execution_count": 18,
   "metadata": {},
   "outputs": [
    {
     "data": {
      "text/plain": [
       "1.7e+308"
      ]
     },
     "execution_count": 18,
     "metadata": {},
     "output_type": "execute_result"
    }
   ],
   "source": [
    "#FLOAT\n",
    "float(1.7e308)"
   ]
  },
  {
   "cell_type": "code",
   "execution_count": 24,
   "metadata": {},
   "outputs": [
    {
     "data": {
      "text/plain": [
       "True"
      ]
     },
     "execution_count": 24,
     "metadata": {},
     "output_type": "execute_result"
    }
   ],
   "source": [
    "#Boolean \n",
    "#only give true or false values and it is not a string.\n",
    "\n",
    "bool(True)\n"
   ]
  },
  {
   "cell_type": "code",
   "execution_count": 1,
   "metadata": {},
   "outputs": [
    {
     "name": "stdout",
     "output_type": "stream",
     "text": [
      "Hello\n"
     ]
    }
   ],
   "source": [
    "#TEXT/STRING\n",
    "print(\"Hello\")"
   ]
  },
  {
   "cell_type": "code",
   "execution_count": 26,
   "metadata": {},
   "outputs": [
    {
     "data": {
      "text/plain": [
       "(5+6j)"
      ]
     },
     "execution_count": 26,
     "metadata": {},
     "output_type": "execute_result"
    }
   ],
   "source": [
    "#complex\n",
    "complex(5+6J)"
   ]
  },
  {
   "cell_type": "code",
   "execution_count": 29,
   "metadata": {},
   "outputs": [
    {
     "name": "stdout",
     "output_type": "stream",
     "text": [
      "[1, 2, 3, 4, 5]\n"
     ]
    }
   ],
   "source": [
    "#LIST\n",
    "A = [1,2,3,4,5]\n",
    "print(A)"
   ]
  },
  {
   "cell_type": "code",
   "execution_count": 30,
   "metadata": {},
   "outputs": [
    {
     "name": "stdout",
     "output_type": "stream",
     "text": [
      "(1, 2, 3, 4, 5, 5)\n"
     ]
    }
   ],
   "source": [
    "#Tuple\n",
    "A = (1,2,3,4,5,5)\n",
    "print(A)"
   ]
  },
  {
   "cell_type": "code",
   "execution_count": 31,
   "metadata": {},
   "outputs": [
    {
     "name": "stdout",
     "output_type": "stream",
     "text": [
      "{1, 2, 3, 5, 6}\n"
     ]
    }
   ],
   "source": [
    "#SETS\n",
    "a = {1,2,3,5,6,6}\n",
    "print(a)"
   ]
  },
  {
   "cell_type": "code",
   "execution_count": 4,
   "metadata": {},
   "outputs": [
    {
     "name": "stdout",
     "output_type": "stream",
     "text": [
      "{'Course': 'MSCDS', 'Section': 'B'}\n"
     ]
    }
   ],
   "source": [
    "#DICTIONARY\n",
    "Vikash = {'Course':'MSCDS','Section':'B'}\n",
    "print(Vikash)"
   ]
  },
  {
   "cell_type": "code",
   "execution_count": 5,
   "metadata": {},
   "outputs": [
    {
     "data": {
      "text/plain": [
       "dict"
      ]
     },
     "execution_count": 5,
     "metadata": {},
     "output_type": "execute_result"
    }
   ],
   "source": [
    "#Explain the data type of the variable\n",
    "\n",
    "type(Vikash)"
   ]
  },
  {
   "cell_type": "code",
   "execution_count": 6,
   "metadata": {},
   "outputs": [
    {
     "name": "stdout",
     "output_type": "stream",
     "text": [
      "1 2 3\n"
     ]
    }
   ],
   "source": [
    "a=1\n",
    "b=2\n",
    "c=3\n",
    "print(a,b,c)"
   ]
  },
  {
   "cell_type": "code",
   "execution_count": 7,
   "metadata": {},
   "outputs": [
    {
     "name": "stdout",
     "output_type": "stream",
     "text": [
      "1 2 3\n"
     ]
    }
   ],
   "source": [
    "a,b,c=1,2,3\n",
    "print(a,b,c)"
   ]
  },
  {
   "cell_type": "code",
   "execution_count": 10,
   "metadata": {},
   "outputs": [
    {
     "name": "stdout",
     "output_type": "stream",
     "text": [
      "4 4 4\n"
     ]
    }
   ],
   "source": [
    "a=b=c=4\n",
    "print(a,b,c)"
   ]
  },
  {
   "cell_type": "markdown",
   "metadata": {},
   "source": [
    "# User Input\n",
    "# Type Conversion"
   ]
  },
  {
   "cell_type": "code",
   "execution_count": 13,
   "metadata": {},
   "outputs": [
    {
     "name": "stdout",
     "output_type": "stream",
     "text": [
      "<class 'str'> <class 'str'>\n",
      "80\n"
     ]
    }
   ],
   "source": [
    "#Take input from the users and store them in  a variable\n",
    "A = input('enter your first number')\n",
    "B = input('enter your second number')\n",
    "print(type(A),type(B))\n",
    "#Add the Two Variables\n",
    "C = int(A) +int(B)\n",
    "#Print the result\n",
    "print(C)"
   ]
  },
  {
   "cell_type": "markdown",
   "metadata": {},
   "source": [
    "# TASKS"
   ]
  },
  {
   "cell_type": "code",
   "execution_count": 15,
   "metadata": {},
   "outputs": [
    {
     "name": "stdout",
     "output_type": "stream",
     "text": [
      "Data-Science-program-by-CampusX\n"
     ]
    }
   ],
   "source": [
    "print(\"Data\"'-'\"Science\"'-'\"program\"'-'\"by\"'-'\"CampusX\")"
   ]
  },
  {
   "cell_type": "code",
   "execution_count": 20,
   "metadata": {},
   "outputs": [
    {
     "name": "stdout",
     "output_type": "stream",
     "text": [
      "data-science-mentorship-programme-launched-by-CampusX."
     ]
    }
   ],
   "source": [
    "print('data',end='-')\n",
    "print('science',end='-')\n",
    "print('mentorship',end='-')\n",
    "print('programme',end='-')\n",
    "print('launched',end='-')\n",
    "print('by',end='-')\n",
    "print('CampusX',end='.')"
   ]
  },
  {
   "cell_type": "code",
   "execution_count": 25,
   "metadata": {},
   "outputs": [
    {
     "name": "stdout",
     "output_type": "stream",
     "text": [
      "Data-Science-Programme-Launched-By-CampusX\n"
     ]
    }
   ],
   "source": [
    "print('Data','Science','Programme','Launched','By','CampusX',sep='-')\n"
   ]
  },
  {
   "cell_type": "code",
   "execution_count": 37,
   "metadata": {},
   "outputs": [
    {
     "name": "stdout",
     "output_type": "stream",
     "text": [
      "Temperature in Fahrenheit : 122.0\n"
     ]
    }
   ],
   "source": [
    "celsius =int(input(\"Enter the Temperature in Celsius :\\n\"))\n",
    "fahrenheit = 1.8*celsius+32.\n",
    "print(\"Temperature in Fahrenheit :\", fahrenheit)"
   ]
  },
  {
   "cell_type": "code",
   "execution_count": 1,
   "metadata": {},
   "outputs": [
    {
     "name": "stdout",
     "output_type": "stream",
     "text": [
      "Simple Interest: 102.20\n"
     ]
    }
   ],
   "source": [
    "# Input principal amount, rate of interest, and time period from the user\n",
    "principal = float(input(\"Enter the principal amount: \"))\n",
    "rate_of_interest = float(input(\"Enter the rate of interest (in percentage): \"))\n",
    "time_period = float(input(\"Enter the time period (in years): \"))\n",
    "\n",
    "# Convert rate of interest from percentage to decimal\n",
    "rate_of_interest_decimal = rate_of_interest / 100\n",
    "\n",
    "# Calculate simple interest\n",
    "simple_interest = (principal * rate_of_interest_decimal * time_period)\n",
    "\n",
    "# Display the result\n",
    "print(f\"Simple Interest: {simple_interest:.2f}\")\n"
   ]
  },
  {
   "cell_type": "code",
   "execution_count": 5,
   "metadata": {},
   "outputs": [
    {
     "name": "stdout",
     "output_type": "stream",
     "text": [
      "200.0\n"
     ]
    }
   ],
   "source": [
    "principle = float(input(\"Enter your Amount\"))\n",
    "Interest = float(input(\"enter your rate of interest\"))\n",
    "time = float(input(\"enter your time limit\"))\n",
    "Interest_ = Interest/100\n",
    "simple_interest = (principle*Interest_*time)\n",
    "print(simple_interest)\n"
   ]
  },
  {
   "cell_type": "code",
   "execution_count": 6,
   "metadata": {},
   "outputs": [
    {
     "name": "stdout",
     "output_type": "stream",
     "text": [
      "Number of dogs: -7\n",
      "Number of chickens: 27\n"
     ]
    }
   ],
   "source": [
    "# Input total number of heads and legs from the user\n",
    "total_heads = int(input(\"Enter the total number of heads: \"))\n",
    "total_legs = int(input(\"Enter the total number of legs: \"))\n",
    "\n",
    "# Solve the system of equations\n",
    "# D + C = total_heads\n",
    "# 4D + 2C = total_legs\n",
    "\n",
    "# Rearrange the first equation to express C in terms of D\n",
    "# C = total_heads - D\n",
    "\n",
    "# Substitute this into the second equation\n",
    "# 4D + 2(total_heads - D) = total_legs\n",
    "# 4D + 2total_heads - 2D = total_legs\n",
    "\n",
    "# Simplify the equation\n",
    "# 2D + 2total_heads = total_legs\n",
    "\n",
    "# Rearrange it to find D\n",
    "# 2D = total_legs - 2total_heads\n",
    "# D = (total_legs - 2total_heads) / 2\n",
    "\n",
    "D = (total_legs - 2 * total_heads) / 2\n",
    "\n",
    "# Calculate the number of chickens using the first equation\n",
    "C = total_heads - D\n",
    "\n",
    "# Display the results\n",
    "print(f\"Number of dogs: {int(D)}\")\n",
    "print(f\"Number of chickens: {int(C)}\")\n"
   ]
  },
  {
   "cell_type": "code",
   "execution_count": 8,
   "metadata": {},
   "outputs": [
    {
     "name": "stdout",
     "output_type": "stream",
     "text": [
      "3795\n"
     ]
    }
   ],
   "source": [
    "n = int(input(\"enter your number\"))\n",
    "sum_of_squares = int(n*(n+1)*(2*n+1)/6)\n",
    "print(sum_of_squares)\n",
    "#[n(n+1)(2n+1)] / 6"
   ]
  },
  {
   "cell_type": "code",
   "execution_count": 9,
   "metadata": {},
   "outputs": [
    {
     "name": "stdout",
     "output_type": "stream",
     "text": [
      "The 98th term of the arithmetic series is: -1627.0\n"
     ]
    }
   ],
   "source": [
    "# Input the first term, second term, and N from the user\n",
    "a_1 = float(input(\"Enter the first term (a_1) of the arithmetic series: \"))\n",
    "a_2 = float(input(\"Enter the second term (a_2) of the arithmetic series: \"))\n",
    "N = int(input(\"Enter the value of N to find the Nth term: \"))\n",
    "\n",
    "# Calculate the common difference (d)\n",
    "d = a_2 - a_1\n",
    "\n",
    "# Calculate the Nth term (a_N)\n",
    "a_N = a_1 + (N - 1) * d\n",
    "\n",
    "# Print the result\n",
    "print(f\"The {N}th term of the arithmetic series is: {a_N}\")\n"
   ]
  },
  {
   "cell_type": "code",
   "execution_count": 15,
   "metadata": {},
   "outputs": [
    {
     "name": "stdout",
     "output_type": "stream",
     "text": [
      "2.9\n"
     ]
    }
   ],
   "source": [
    "Numerator_1 = int(input(\"Enter your numerator\"))\n",
    "denominator_1 = int(input(\"Enter your Denominator\"))\n",
    "Numerator_2 = int(input(\"Enter your second denominator\"))\n",
    "Denominator_2 = int(input(\"Enter your second denominator\"))\n",
    "common_denominator = denominator_1*Denominator_2\n",
    "new_numerator1 = Numerator_1*Denominator_2\n",
    "new_numerator2 = Numerator_2*denominator_1\n",
    "sum = new_numerator1 + new_numerator2\n",
    "print(sum/common_denominator)\n",
    "\n"
   ]
  },
  {
   "cell_type": "code",
   "execution_count": 12,
   "metadata": {},
   "outputs": [
    {
     "name": "stdout",
     "output_type": "stream",
     "text": [
      "The sum of 2/5 and 5/2 is:\n",
      "29/10\n"
     ]
    }
   ],
   "source": [
    "# Input the numerator and denominator values for the first fraction\n",
    "numerator1 = int(input(\"Enter the numerator of the first fraction: \"))\n",
    "denominator1 = int(input(\"Enter the denominator of the first fraction: \"))\n",
    "\n",
    "# Input the numerator and denominator values for the second fraction\n",
    "numerator2 = int(input(\"Enter the numerator of the second fraction: \"))\n",
    "denominator2 = int(input(\"Enter the denominator of the second fraction: \"))\n",
    "\n",
    "# Find the common denominator\n",
    "common_denominator = denominator1 * denominator2\n",
    "\n",
    "# Calculate the new numerators to have a common denominator\n",
    "new_numerator1 = numerator1 * denominator2\n",
    "new_numerator2 = numerator2 * denominator1\n",
    "\n",
    "# Calculate the sum of the fractions\n",
    "sum_numerator = new_numerator1 + new_numerator2\n",
    "\n",
    "# Print the sum as a fraction\n",
    "print(f\"The sum of {numerator1}/{denominator1} and {numerator2}/{denominator2} is:\")\n",
    "print(f\"{sum_numerator}/{common_denominator}\")\n"
   ]
  },
  {
   "cell_type": "code",
   "execution_count": 21,
   "metadata": {},
   "outputs": [
    {
     "name": "stdout",
     "output_type": "stream",
     "text": [
      "vikashvikashvikashvikashvikash\n"
     ]
    }
   ],
   "source": [
    "A = input(\"enter your name\")\n",
    "n = int(input(\"enter your number\"))\n",
    "b = n*A\n",
    "print(b)"
   ]
  },
  {
   "cell_type": "code",
   "execution_count": null,
   "metadata": {},
   "outputs": [],
   "source": [
    "array = "
   ]
  },
  {
   "cell_type": "markdown",
   "metadata": {},
   "source": [
    "# Session 2    "
   ]
  },
  {
   "cell_type": "code",
   "execution_count": 2,
   "metadata": {},
   "outputs": [
    {
     "name": "stdout",
     "output_type": "stream",
     "text": [
      "2\n"
     ]
    }
   ],
   "source": [
    "#Assignment Operator\n",
    "# =\n",
    "# a=2\n",
    "a=2\n",
    "a=a%3\n",
    "print(a)"
   ]
  },
  {
   "cell_type": "code",
   "execution_count": 4,
   "metadata": {},
   "outputs": [
    {
     "name": "stdout",
     "output_type": "stream",
     "text": [
      "True\n"
     ]
    }
   ],
   "source": [
    "#membership operator\n",
    "#in/Not in\n",
    "#work on any kind of data types\n",
    "print('a' in \"Vikash\")"
   ]
  },
  {
   "cell_type": "code",
   "execution_count": 5,
   "metadata": {},
   "outputs": [
    {
     "name": "stdout",
     "output_type": "stream",
     "text": [
      "True\n"
     ]
    }
   ],
   "source": [
    "A = [1,2,3,4,5,6,7]\n",
    "print('9' not in 'A')"
   ]
  },
  {
   "cell_type": "code",
   "execution_count": 17,
   "metadata": {},
   "outputs": [
    {
     "name": "stdout",
     "output_type": "stream",
     "text": [
      "27\n"
     ]
    }
   ],
   "source": [
    "#Find the sum of 3 digit number entered by the user\n",
    "number = int(input(\"enter your three digit code\"))\n",
    "a = number%10\n",
    "number=number//10\n",
    "b = number%10\n",
    "number=number//10\n",
    "c = number%10\n",
    "number=number//10\n",
    "\n",
    "print(a+b+c)"
   ]
  },
  {
   "cell_type": "markdown",
   "metadata": {},
   "source": [
    "#IF-Else"
   ]
  },
  {
   "cell_type": "code",
   "execution_count": 33,
   "metadata": {},
   "outputs": [
    {
     "name": "stdout",
     "output_type": "stream",
     "text": [
      "try again\n",
      "tumse na ho payega\n"
     ]
    }
   ],
   "source": [
    "email = input(\"enter your email\")\n",
    "password = input(\"enter your password\")\n",
    "if email == 'vikashhshakya@gmail.com' and password == '5231':\n",
    "    print(\"welcome\")\n",
    "elif email ==\"vikashhshakya@gmail.com\" and password != '5231':\n",
    "    print('try again')\n",
    "    password = input(\"enter your password\")\n",
    "    if password == '1234':\n",
    "        print(\"Bonjour\")\n",
    "    else:\n",
    "        print(\"tumse na ho payega\")\n",
    "\n",
    "else:\n",
    "    print(\"Error:404 Page not found\")\n",
    "\n"
   ]
  },
  {
   "cell_type": "markdown",
   "metadata": {},
   "source": [
    "#Write a code to find the minimum of 3 numbers"
   ]
  },
  {
   "cell_type": "code",
   "execution_count": 38,
   "metadata": {},
   "outputs": [
    {
     "name": "stdout",
     "output_type": "stream",
     "text": [
      "The Smallest is 255\n"
     ]
    }
   ],
   "source": [
    "a = input(\"enter the first number\")\n",
    "b = input(\"enter the second number\")\n",
    "c = input(\"enter the third number\")\n",
    "if a<b and a<c:\n",
    "    print(\"The Smallest is\",a)\n",
    "elif b<c:\n",
    "    print(\"the smallest is\",b)\n",
    "else:\n",
    "    print(\"the smallest is\",c)\n",
    "\n"
   ]
  },
  {
   "cell_type": "code",
   "execution_count": 39,
   "metadata": {},
   "outputs": [
    {
     "name": "stdout",
     "output_type": "stream",
     "text": [
      "the largest number is 848498\n"
     ]
    }
   ],
   "source": [
    "a = input('enter the first number')\n",
    "b = input('enter the second number')\n",
    "c = input('enter the third number')\n",
    "if a>b and a>c:\n",
    "    print('The largest number is',a)\n",
    "elif b>c:\n",
    "    print('the largest number is',b)\n",
    "else:\n",
    "    print('the largest number is',c)"
   ]
  },
  {
   "cell_type": "markdown",
   "metadata": {},
   "source": [
    "# menu Driven Calculator"
   ]
  },
  {
   "cell_type": "code",
   "execution_count": 5,
   "metadata": {},
   "outputs": [
    {
     "name": "stdout",
     "output_type": "stream",
     "text": [
      "1500\n"
     ]
    }
   ],
   "source": [
    "A = int(input(\"enter your number\"))\n",
    "B = int(input(\"enter your number\"))\n",
    "c = input(\"enter your operation\")\n",
    "if c==\"+\":\n",
    "    print(A+B)\n",
    "elif c==\"*\":\n",
    "    print(A*B)\n",
    "elif c==\"/\":\n",
    "    print(A/B)\n",
    "else :\n",
    "    print(A-B)"
   ]
  },
  {
   "cell_type": "markdown",
   "metadata": {},
   "source": [
    "# ATM Menu Driven"
   ]
  },
  {
   "cell_type": "code",
   "execution_count": 10,
   "metadata": {},
   "outputs": [
    {
     "name": "stdout",
     "output_type": "stream",
     "text": [
      "Check your balance\n",
      "The account is not empty\n"
     ]
    }
   ],
   "source": [
    "menu = input(\n",
    "\"Hi!how can i help you.\"\n",
    "\"1.Enter 1 to check your balance\"\n",
    "\"2. Enter 2 to change your password\"\n",
    "\"3. Enter 3 for withdrawl\"\n",
    "\"4. Enter 4 for Menu\"\n",
    "\"5.Enter 5 for Exit\")\n",
    "if menu=='1':\n",
    "    print(\"Check your balance\")\n",
    "    balance = int(input(\"Enter your amount\"))\n",
    "    if balance>0:\n",
    "        print(\"The account is not empty\")\n",
    "    else:\n",
    "        print(\"the account is empty\")\n",
    "elif menu=='2':\n",
    "    print(\"Pin Change\")\n",
    "elif menu=='3':\n",
    "    print(\"Withdrawl\")\n",
    "elif menu=='4':\n",
    "    print(\"Menu\")\n",
    "else:\n",
    "    print(\"Exit\")"
   ]
  },
  {
   "cell_type": "markdown",
   "metadata": {},
   "source": [
    "# While Loop\n"
   ]
  },
  {
   "cell_type": "code",
   "execution_count": null,
   "metadata": {},
   "outputs": [],
   "source": [
    "# We can execute the set of statements as long as condition is true."
   ]
  },
  {
   "cell_type": "code",
   "execution_count": 17,
   "metadata": {},
   "outputs": [
    {
     "name": "stdout",
     "output_type": "stream",
     "text": [
      "200\n",
      "200\n",
      "500\n",
      "1000\n",
      "1001\n",
      "Done with the loop\n"
     ]
    }
   ],
   "source": [
    "i=int(input(\"enter your number\"))\n",
    "while(i<=1000):\n",
    "    i=int(input(\"enter your number\"))\n",
    "    print(i)\n",
    "\n",
    "print(\"Done with the loop\")"
   ]
  },
  {
   "cell_type": "code",
   "execution_count": 20,
   "metadata": {},
   "outputs": [
    {
     "name": "stdout",
     "output_type": "stream",
     "text": [
      "5\n",
      "4\n",
      "3\n",
      "2\n",
      "1\n"
     ]
    }
   ],
   "source": [
    "# Decrement Loop\n",
    "count=5\n",
    "while(count>0):\n",
    "    print(count)\n",
    "    count = count-1"
   ]
  },
  {
   "cell_type": "code",
   "execution_count": 3,
   "metadata": {},
   "outputs": [
    {
     "name": "stdout",
     "output_type": "stream",
     "text": [
      "10\n",
      "9\n",
      "8\n",
      "7\n",
      "6\n",
      "5\n",
      "4\n",
      "3\n",
      "2\n",
      "1\n",
      "exit the loop\n"
     ]
    }
   ],
   "source": [
    "count=10\n",
    "while(count>0):\n",
    "    print(count)\n",
    "    count = count-1\n",
    "else:\n",
    "    print(\"exit the loop\")"
   ]
  },
  {
   "cell_type": "code",
   "execution_count": 1,
   "metadata": {},
   "outputs": [
    {
     "name": "stdout",
     "output_type": "stream",
     "text": [
      "exit the loop\n"
     ]
    }
   ],
   "source": [
    "count=10\n",
    "while (count<0):\n",
    "    print(count)\n",
    "    count = count-1\n",
    "else:\n",
    "    print(\"exit the loop\")"
   ]
  },
  {
   "cell_type": "code",
   "execution_count": 1,
   "metadata": {},
   "outputs": [
    {
     "name": "stdout",
     "output_type": "stream",
     "text": [
      "10\n",
      "9\n",
      "8\n",
      "7\n",
      "6\n",
      "5\n",
      "4\n",
      "3\n",
      "2\n",
      "1\n",
      "exit the loop\n"
     ]
    }
   ],
   "source": [
    "count=10\n",
    "while(count>0):\n",
    "    print(count)\n",
    "    count = count-1\n",
    "\n",
    "else:\n",
    "    print(\"exit the loop\")"
   ]
  },
  {
   "cell_type": "markdown",
   "metadata": {},
   "source": [
    "# Modulus in python:\n",
    "* Math\n",
    "* keywords\n",
    "* constants\n",
    "* random"
   ]
  },
  {
   "cell_type": "code",
   "execution_count": 5,
   "metadata": {},
   "outputs": [
    {
     "data": {
      "text/plain": [
       "1.7467135528742547e+19"
      ]
     },
     "execution_count": 5,
     "metadata": {},
     "output_type": "execute_result"
    }
   ],
   "source": [
    "#Math\n",
    "import math\n",
    "math.sinh(45)"
   ]
  },
  {
   "cell_type": "code",
   "execution_count": 6,
   "metadata": {},
   "outputs": [
    {
     "name": "stdout",
     "output_type": "stream",
     "text": [
      "['False', 'None', 'True', 'and', 'as', 'assert', 'async', 'await', 'break', 'class', 'continue', 'def', 'del', 'elif', 'else', 'except', 'finally', 'for', 'from', 'global', 'if', 'import', 'in', 'is', 'lambda', 'nonlocal', 'not', 'or', 'pass', 'raise', 'return', 'try', 'while', 'with', 'yield']\n"
     ]
    }
   ],
   "source": [
    "#Keywords\n",
    "import keyword\n",
    "print(keyword.kwlist)"
   ]
  },
  {
   "cell_type": "code",
   "execution_count": 13,
   "metadata": {},
   "outputs": [
    {
     "name": "stdout",
     "output_type": "stream",
     "text": [
      "2629\n"
     ]
    }
   ],
   "source": [
    "#random\n",
    "import random\n",
    "print(random.randint(1,10000))"
   ]
  },
  {
   "cell_type": "code",
   "execution_count": 17,
   "metadata": {},
   "outputs": [
    {
     "name": "stdout",
     "output_type": "stream",
     "text": [
      "2023-10-04 22:55:10.691971\n"
     ]
    }
   ],
   "source": [
    "#datetime\n",
    "import datetime\n",
    "print(datetime.datetime.now())"
   ]
  },
  {
   "cell_type": "code",
   "execution_count": 19,
   "metadata": {},
   "outputs": [
    {
     "name": "stdout",
     "output_type": "stream",
     "text": [
      "\n",
      "Please wait a moment while I gather a list of all available modules...\n",
      "\n",
      "test_sqlite3: testing with version '2.6.0', sqlite_version '3.42.0'\n"
     ]
    },
    {
     "name": "stderr",
     "output_type": "stream",
     "text": [
      "c:\\Users\\Lenovo\\AppData\\Local\\Programs\\Python\\Python311\\Lib\\site-packages\\_distutils_hack\\__init__.py:33: UserWarning: Setuptools is replacing distutils.\n",
      "  warnings.warn(\"Setuptools is replacing distutils.\")\n"
     ]
    },
    {
     "name": "stdout",
     "output_type": "stream",
     "text": [
      "IPython             binascii            mailcap             start_pythonwin\n",
      "__future__          bisect              markupsafe          stat\n",
      "__hello__           bleach              marshal             statistics\n",
      "__phello__          bs4                 math                string\n",
      "_abc                builtins            matplotlib_inline   stringprep\n",
      "_aix_support        bz2                 mimetypes           struct\n",
      "_argon2_cffi_bindings cProfile            mistune             subprocess\n",
      "_ast                calendar            mmap                sunau\n",
      "_asyncio            certifi             mmapfile            symtable\n",
      "_bisect             cffi                mmsystem            sys\n",
      "_blake2             cgi                 modulefinder        sysconfig\n",
      "_bootsubprocess     cgitb               msilib              tabnanny\n",
      "_bz2                charset_normalizer  msvcrt              tarfile\n",
      "_cffi_backend       chunk               multiprocessing     telnetlib\n",
      "_codecs             cmath               nbclient            tempfile\n",
      "_codecs_cn          cmd                 nbconvert           terminado\n",
      "_codecs_hk          code                nbformat            test\n",
      "_codecs_iso2022     codecs              nest_asyncio        textwrap\n",
      "_codecs_jp          codeop              netbios             this\n",
      "_codecs_kr          collections         netrc               threading\n",
      "_codecs_tw          colorama            nntplib             time\n",
      "_collections        colorsys            notebook            timeit\n",
      "_collections_abc    comm                notebook_shim       timer\n",
      "_compat_pickle      commctrl            nt                  tinycss2\n",
      "_compression        compileall          ntpath              tkinter\n",
      "_contextvars        concurrent          ntsecuritycon       token\n",
      "_csv                configparser        nturl2path          tokenize\n",
      "_ctypes             contextlib          numbers             tomllib\n",
      "_ctypes_test        contextvars         odbc                tornado\n",
      "_datetime           copy                opcode              trace\n",
      "_decimal            copyreg             operator            traceback\n",
      "_distutils_hack     crypt               optparse            tracemalloc\n",
      "_elementtree        csv                 os                  traitlets\n",
      "_functools          ctypes              overrides           tty\n",
      "_hashlib            curses              packaging           turtle\n",
      "_heapq              dataclasses         pandocfilters       turtledemo\n",
      "_imp                datetime            parso               types\n",
      "_io                 dateutil            pathlib             typing\n",
      "_json               dbi                 pdb                 unicodedata\n",
      "_locale             dbm                 perfmon             unittest\n",
      "_lsprof             dde                 pickle              uri_template\n",
      "_lzma               debugpy             pickleshare         urllib\n",
      "_markupbase         decimal             pickletools         urllib3\n",
      "_md5                decorator           pip                 uu\n",
      "_msi                defusedxml          pipes               uuid\n",
      "_multibytecodec     difflib             pkg_resources       venv\n",
      "_multiprocessing    dis                 pkgutil             warnings\n",
      "_opcode             distutils           platform            wave\n",
      "_operator           doctest             platformdirs        wcwidth\n",
      "_osx_support        email               plistlib            weakref\n",
      "_overlapped         encodings           poplib              webbrowser\n",
      "_pickle             ensurepip           posixpath           webcolors\n",
      "_py_abc             enum                pprint              webencodings\n",
      "_pydecimal          errno               profile             websocket\n",
      "_pyio               executing           prometheus_client   widgetsnbextension\n",
      "_queue              fastjsonschema      prompt_toolkit      win2kras\n",
      "_random             faulthandler        pstats              win32api\n",
      "_sha1               filecmp             psutil              win32clipboard\n",
      "_sha256             fileinput           pty                 win32com\n",
      "_sha3               fnmatch             pure_eval           win32con\n",
      "_sha512             fqdn                py_compile          win32console\n",
      "_signal             fractions           pyclbr              win32cred\n",
      "_sitebuiltins       ftplib              pycparser           win32crypt\n",
      "_socket             functools           pydoc               win32cryptcon\n",
      "_sqlite3            gc                  pydoc_data          win32event\n",
      "_sre                genericpath         pyexpat             win32evtlog\n",
      "_ssl                getopt              pygments            win32evtlogutil\n",
      "_stat               getpass             python beginning    win32file\n",
      "_statistics         gettext             pythoncom           win32gui\n",
      "_string             glob                pythonjsonlogger    win32gui_struct\n",
      "_strptime           graphlib            pywin               win32help\n",
      "_struct             gzip                pywin32_bootstrap   win32inet\n",
      "_symtable           hashlib             pywin32_testutil    win32inetcon\n",
      "_testbuffer         heapq               pywintypes          win32job\n",
      "_testcapi           hmac                qtconsole           win32lz\n",
      "_testconsole        html                qtpy                win32net\n",
      "_testimportmultiple http                queue               win32netcon\n",
      "_testinternalcapi   idlelib             quopri              win32pdh\n",
      "_testmultiphase     idna                random              win32pdhquery\n",
      "_thread             imaplib             rasutil             win32pdhutil\n",
      "_threading_local    imghdr              re                  win32pipe\n",
      "_tkinter            imp                 referencing         win32print\n",
      "_tokenize           importlib           regcheck            win32process\n",
      "_tracemalloc        inspect             regutil             win32profile\n",
      "_typing             io                  reprlib             win32ras\n",
      "_uuid               ipaddress           requests            win32rcparser\n",
      "_warnings           ipykernel           rfc3339_validator   win32security\n",
      "_weakref            ipykernel_launcher  rfc3986_validator   win32service\n",
      "_weakrefset         ipython_genutils    rlcompleter         win32serviceutil\n",
      "_win32sysloader     ipywidgets          rpds                win32timezone\n",
      "_winapi             isapi               runpy               win32trace\n",
      "_winxptheme         isoduration         sched               win32traceutil\n",
      "_xxsubinterpreters  itertools           secrets             win32transaction\n",
      "_yaml               jedi                select              win32ts\n",
      "_zoneinfo           jinja2              selectors           win32ui\n",
      "abc                 json                send2trash          win32uiole\n",
      "adodbapi            json5               servicemanager      win32verstamp\n",
      "afxres              jsonpointer         setuptools          win32wnet\n",
      "aifc                jsonschema          shelve              winerror\n",
      "antigravity         jsonschema_specifications shlex               winioctlcon\n",
      "anyio               jupyter             shutil              winnt\n",
      "argon2              jupyter_client      signal              winperf\n",
      "argparse            jupyter_console     site                winpty\n",
      "array               jupyter_core        six                 winreg\n",
      "arrow               jupyter_events      smtpd               winsound\n",
      "ast                 jupyter_lsp         smtplib             winxpgui\n",
      "asttokens           jupyter_server      sndhdr              winxptheme\n",
      "async_lru           jupyter_server_terminals sniffio             wsgiref\n",
      "asynchat            jupyterlab          socket              xdrlib\n",
      "asyncio             jupyterlab_pygments socketserver        xml\n",
      "asyncore            jupyterlab_server   soupsieve           xmlrpc\n",
      "atexit              jupyterlab_widgets  sqlite3             xxsubtype\n",
      "attr                keyword             sre_compile         yaml\n",
      "attrs               lib2to3             sre_constants       zipapp\n",
      "audioop             linecache           sre_parse           zipfile\n",
      "babel               locale              ssl                 zipimport\n",
      "backcall            logging             sspi                zlib\n",
      "base64              lzma                sspicon             zmq\n",
      "bdb                 mailbox             stack_data          zoneinfo\n",
      "\n",
      "Enter any module name to get more help.  Or, type \"modules spam\" to search\n",
      "for modules whose name or summary contain the string \"spam\".\n",
      "\n"
     ]
    }
   ],
   "source": [
    "help('modules')"
   ]
  },
  {
   "cell_type": "code",
   "execution_count": null,
   "metadata": {},
   "outputs": [],
   "source": [
    "# While loop example -> program to print the table\n",
    "# Program -> Sum of all digits of a given number\n",
    "# Program -> keep accepting numbers from users till he/she enters a 0 and then find the avg."
   ]
  },
  {
   "cell_type": "code",
   "execution_count": 22,
   "metadata": {},
   "outputs": [
    {
     "name": "stdout",
     "output_type": "stream",
     "text": [
      "Guess Higher\n",
      "Guess Higher\n",
      "Guess Higher\n",
      "Guess Higher\n",
      "Guess Higher\n",
      "Guess Higher\n",
      "Guess Higher\n",
      "Guess Higher\n",
      "guess lower\n",
      "guess lower\n",
      "Guess Higher\n",
      "Guess Higher\n",
      "guess lower\n",
      "guess lower\n",
      "guess lower\n",
      "guess is correct\n",
      "attempts 16\n"
     ]
    }
   ],
   "source": [
    "import random \n",
    "jackpot=random.randint(1,100)\n",
    "guess = int(input(\"Guess Karo\"))\n",
    "counter=1\n",
    "while(guess!=jackpot):\n",
    "    if guess<jackpot:\n",
    "        print(\"Guess Higher\")\n",
    "    else:\n",
    "        print(\"guess lower\")\n",
    "    \n",
    "    guess = int(input(\"Guess again\"))\n",
    "    counter +=1\n",
    "else:\n",
    "    print(\"guess is correct\")\n",
    "    print('attempts',counter)"
   ]
  },
  {
   "cell_type": "markdown",
   "metadata": {},
   "source": [
    "# For Loop"
   ]
  },
  {
   "cell_type": "code",
   "execution_count": 25,
   "metadata": {},
   "outputs": [
    {
     "name": "stdout",
     "output_type": "stream",
     "text": [
      "1\n",
      "3\n",
      "5\n",
      "7\n",
      "9\n"
     ]
    }
   ],
   "source": [
    "for i in range(1,10,2):\n",
    "    print(i)"
   ]
  },
  {
   "cell_type": "code",
   "execution_count": 27,
   "metadata": {},
   "outputs": [
    {
     "name": "stdout",
     "output_type": "stream",
     "text": [
      "10\n",
      "8\n",
      "6\n",
      "4\n",
      "2\n"
     ]
    }
   ],
   "source": [
    "for i in range(10,1,-2):\n",
    "    print(i)"
   ]
  },
  {
   "cell_type": "markdown",
   "metadata": {},
   "source": [
    "# Program - The current population of a town is 10000. The population of the town is increasing at the rate of 10% per year. You have to write a program to find out the population at the end of each of the last 10 years."
   ]
  },
  {
   "cell_type": "code",
   "execution_count": 28,
   "metadata": {},
   "outputs": [
    {
     "name": "stdout",
     "output_type": "stream",
     "text": [
      "10 10000\n",
      "9 9000.0\n",
      "8 8100.0\n",
      "7 7290.0\n",
      "6 6561.0\n",
      "5 5904.9\n",
      "4 5314.41\n",
      "3 4782.969\n",
      "2 4304.6721\n"
     ]
    }
   ],
   "source": [
    "current_population = 10000\n",
    "for i in range(10,1,-1):\n",
    "    print(i,current_population)\n",
    "    current_population = current_population - 0.1*current_population\n",
    "    "
   ]
  },
  {
   "cell_type": "markdown",
   "metadata": {},
   "source": [
    "# Nested Loops"
   ]
  },
  {
   "cell_type": "code",
   "execution_count": 32,
   "metadata": {},
   "outputs": [
    {
     "name": "stdout",
     "output_type": "stream",
     "text": [
      "1 * 1 = 1\n",
      "1 * 2 = 2\n",
      "1 * 3 = 3\n",
      "1 * 4 = 4\n",
      "1 * 5 = 5\n",
      "1 * 6 = 6\n",
      "2 * 1 = 2\n",
      "2 * 2 = 4\n",
      "2 * 3 = 6\n",
      "2 * 4 = 8\n",
      "2 * 5 = 10\n",
      "2 * 6 = 12\n",
      "3 * 1 = 3\n",
      "3 * 2 = 6\n",
      "3 * 3 = 9\n",
      "3 * 4 = 12\n",
      "3 * 5 = 15\n",
      "3 * 6 = 18\n",
      "4 * 1 = 4\n",
      "4 * 2 = 8\n",
      "4 * 3 = 12\n",
      "4 * 4 = 16\n",
      "4 * 5 = 20\n",
      "4 * 6 = 24\n",
      "5 * 1 = 5\n",
      "5 * 2 = 10\n",
      "5 * 3 = 15\n",
      "5 * 4 = 20\n",
      "5 * 5 = 25\n",
      "5 * 6 = 30\n",
      "6 * 1 = 6\n",
      "6 * 2 = 12\n",
      "6 * 3 = 18\n",
      "6 * 4 = 24\n",
      "6 * 5 = 30\n",
      "6 * 6 = 36\n",
      "7 * 1 = 7\n",
      "7 * 2 = 14\n",
      "7 * 3 = 21\n",
      "7 * 4 = 28\n",
      "7 * 5 = 35\n",
      "7 * 6 = 42\n",
      "8 * 1 = 8\n",
      "8 * 2 = 16\n",
      "8 * 3 = 24\n",
      "8 * 4 = 32\n",
      "8 * 5 = 40\n",
      "8 * 6 = 48\n",
      "9 * 1 = 9\n",
      "9 * 2 = 18\n",
      "9 * 3 = 27\n",
      "9 * 4 = 36\n",
      "9 * 5 = 45\n",
      "9 * 6 = 54\n"
     ]
    }
   ],
   "source": [
    "for i in range(1,10):\n",
    "    for j in range(1,7):\n",
    "        print(i ,'*', j, '=',i*j)"
   ]
  },
  {
   "cell_type": "markdown",
   "metadata": {},
   "source": [
    "# Break & Continue"
   ]
  },
  {
   "cell_type": "code",
   "execution_count": 51,
   "metadata": {},
   "outputs": [
    {
     "name": "stdout",
     "output_type": "stream",
     "text": [
      "5* 1 = 5\n",
      "5* 2 = 10\n",
      "5* 3 = 15\n",
      "5* 4 = 20\n",
      "5* 5 = 25\n",
      "5* 6 = 30\n",
      "5* 7 = 35\n",
      "5* 8 = 40\n",
      "5* 9 = 45\n",
      "5* 10 = 50\n",
      "Please Exit the Loop\n"
     ]
    }
   ],
   "source": [
    "#Break\n",
    "for i in range(17):\n",
    "   if(i==10):\n",
    "    break\n",
    "   print(\"5*\",i+1,'=',5*(i+1))\n",
    "print(\"Please Exit the Loop\")   \n",
    "   "
   ]
  },
  {
   "cell_type": "code",
   "execution_count": 55,
   "metadata": {},
   "outputs": [
    {
     "name": "stdout",
     "output_type": "stream",
     "text": [
      "5* 1 = 5\n",
      "5* 2 = 10\n",
      "5* 3 = 15\n",
      "5* 4 = 20\n",
      "5* 5 = 25\n",
      "5* 6 = 30\n",
      "Please Exit the Loop\n",
      "5* 8 = 40\n",
      "5* 9 = 45\n",
      "5* 10 = 50\n"
     ]
    }
   ],
   "source": [
    "#Continue\n",
    "for i in range(10):\n",
    "   if(i==6):\n",
    "    print(\"Please Exit the Loop\") \n",
    "    continue\n",
    "   print(\"5*\",i+1,'=',5*(i+1))\n",
    "\n",
    "   \n",
    "\n"
   ]
  },
  {
   "cell_type": "code",
   "execution_count": 62,
   "metadata": {},
   "outputs": [
    {
     "name": "stdout",
     "output_type": "stream",
     "text": [
      "1\n",
      "2\n",
      "3\n",
      "4\n",
      "5\n",
      "6\n",
      "7\n",
      "8\n",
      "9\n",
      "10\n",
      "11\n",
      "12\n",
      "13\n",
      "14\n",
      "15\n",
      "16\n",
      "17\n",
      "18\n",
      "19\n",
      "20\n",
      "21\n",
      "22\n",
      "23\n",
      "24\n",
      "25\n",
      "26\n",
      "27\n",
      "28\n",
      "29\n",
      "30\n",
      "31\n",
      "32\n",
      "33\n",
      "34\n",
      "35\n",
      "36\n",
      "37\n",
      "38\n",
      "39\n",
      "40\n",
      "41\n",
      "42\n",
      "43\n",
      "44\n",
      "45\n",
      "46\n",
      "47\n",
      "48\n",
      "49\n",
      "50\n",
      "51\n",
      "52\n",
      "53\n",
      "54\n",
      "55\n",
      "56\n",
      "57\n",
      "58\n",
      "59\n",
      "60\n",
      "61\n",
      "62\n",
      "63\n",
      "64\n",
      "65\n",
      "66\n",
      "67\n",
      "68\n",
      "69\n",
      "70\n",
      "71\n",
      "72\n",
      "73\n",
      "74\n",
      "75\n",
      "76\n",
      "77\n",
      "78\n",
      "79\n",
      "80\n",
      "81\n",
      "82\n",
      "83\n",
      "84\n",
      "85\n",
      "86\n",
      "87\n",
      "88\n",
      "89\n"
     ]
    }
   ],
   "source": [
    "i=1\n",
    "while True:\n",
    "    print(i)\n",
    "    i = i+1\n",
    "    if(i%90==0):\n",
    "        break"
   ]
  },
  {
   "cell_type": "code",
   "execution_count": null,
   "metadata": {},
   "outputs": [],
   "source": []
  }
 ],
 "metadata": {
  "kernelspec": {
   "display_name": "Python 3",
   "language": "python",
   "name": "python3"
  },
  "language_info": {
   "codemirror_mode": {
    "name": "ipython",
    "version": 3
   },
   "file_extension": ".py",
   "mimetype": "text/x-python",
   "name": "python",
   "nbconvert_exporter": "python",
   "pygments_lexer": "ipython3",
   "version": "3.11.4"
  },
  "orig_nbformat": 4
 },
 "nbformat": 4,
 "nbformat_minor": 2
}
