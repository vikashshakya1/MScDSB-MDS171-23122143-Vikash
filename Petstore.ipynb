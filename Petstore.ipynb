{
 "cells": [
  {
   "cell_type": "code",
   "execution_count": 1,
   "metadata": {},
   "outputs": [
    {
     "name": "stdout",
     "output_type": "stream",
     "text": [
      "All Pets:\n",
      "Name: Buddy, Species: Dog, Age: 3, Price: $500\n",
      "Name: Whiskers, Species: Cat, Age: 2, Price: $300\n",
      "Name: Rio, Species: Parrot, Age: 1, Price: $150\n",
      "Found Buddy: {'name': 'Buddy', 'species': 'Dog', 'age': 3, 'price': 500}\n",
      "Sold Whiskers: {'name': 'Whiskers', 'species': 'Cat', 'age': 2, 'price': 300}\n",
      "\n",
      "Updated List of Pets:\n",
      "Name: Buddy, Species: Dog, Age: 3, Price: Rupee500\n",
      "Name: Rio, Species: Parrot, Age: 1, Price: Rupee150\n"
     ]
    }
   ],
   "source": [
    "class PetStore:\n",
    "    def __init__(self):\n",
    "        self.pets = []\n",
    "\n",
    "    def store_pet(self, name, species, age, price):\n",
    "        \"\"\"Store a new pet's details.\"\"\"\n",
    "        pet = {\n",
    "            \"name\": name,\n",
    "            \"species\": species,\n",
    "            \"age\": age,\n",
    "            \"price\": price,\n",
    "        }\n",
    "        self.pets.append(pet)\n",
    "\n",
    "    def search_pet(self, name):\n",
    "        \"\"\"Search for a pet by name and return its details.\"\"\"\n",
    "        for pet in self.pets:\n",
    "            if pet[\"name\"].lower() == name.lower():\n",
    "                return pet\n",
    "        return None\n",
    "\n",
    "    def sell_pet(self, name):\n",
    "        \"\"\"Sell a pet by removing it from the store.\"\"\"\n",
    "        for pet in self.pets:\n",
    "            if pet[\"name\"].lower() == name.lower():\n",
    "                self.pets.remove(pet)\n",
    "                return pet\n",
    "        return None\n",
    "\n",
    "    def list_all_pets(self):\n",
    "        \"\"\"List all pets available in the store.\"\"\"\n",
    "        return self.pets\n",
    "\n",
    "# Example usage:\n",
    "if __name__ == \"__main__\":\n",
    "    pet_store = PetStore()\n",
    "    \n",
    "    # Store new pets\n",
    "    pet_store.store_pet(\"Buddy\", \"Dog\", 3, 500)\n",
    "    pet_store.store_pet(\"Whiskers\", \"Cat\", 2, 300)\n",
    "    pet_store.store_pet(\"Rio\", \"Parrot\", 1, 150)\n",
    "\n",
    "    # List all pets\n",
    "    print(\"All Pets:\")\n",
    "    all_pets = pet_store.list_all_pets()\n",
    "    for pet in all_pets:\n",
    "        print(f\"Name: {pet['name']}, Species: {pet['species']}, Age: {pet['age']}, Price: ${pet['price']}\")\n",
    "\n",
    "    # Search for a pet\n",
    "    pet_to_find = \"Buddy\"\n",
    "    found_pet = pet_store.search_pet(pet_to_find)\n",
    "    if found_pet:\n",
    "        print(f\"Found {pet_to_find}: {found_pet}\")\n",
    "    else:\n",
    "        print(f\"{pet_to_find} not found.\")\n",
    "\n",
    "    # Sell a pet\n",
    "    pet_to_sell = \"Whiskers\"\n",
    "    sold_pet = pet_store.sell_pet(pet_to_sell)\n",
    "    if sold_pet:\n",
    "        print(f\"Sold {pet_to_sell}: {sold_pet}\")\n",
    "    else:\n",
    "        print(f\"{pet_to_sell} not found.\")\n",
    "\n",
    "    # List all pets after selling one\n",
    "    print(\"\\nUpdated List of Pets:\")\n",
    "    updated_pets = pet_store.list_all_pets()\n",
    "    for pet in updated_pets:\n",
    "        print(f\"Name: {pet['name']}, Species: {pet['species']}, Age: {pet['age']}, Price: Rupee{pet['price']}\")"
   ]
  },
  {
   "cell_type": "code",
   "execution_count": null,
   "metadata": {},
   "outputs": [],
   "source": []
  }
 ],
 "metadata": {
  "kernelspec": {
   "display_name": "Python 3",
   "language": "python",
   "name": "python3"
  },
  "language_info": {
   "codemirror_mode": {
    "name": "ipython",
    "version": 3
   },
   "file_extension": ".py",
   "mimetype": "text/x-python",
   "name": "python",
   "nbconvert_exporter": "python",
   "pygments_lexer": "ipython3",
   "version": "3.11.4"
  }
 },
 "nbformat": 4,
 "nbformat_minor": 2
}
