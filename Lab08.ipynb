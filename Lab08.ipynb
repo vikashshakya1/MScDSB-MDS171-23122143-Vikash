{
 "cells": [
  {
   "cell_type": "markdown",
   "metadata": {},
   "source": [
    "# Write a Python program to implement a Stack class that has the following functions\n",
    "* Push Item\n",
    "* Pop Item\n",
    "* Print the Items in the stack\n",
    "* Size of Stack\n",
    "* The top item in the stack\n",
    "* Check if the stack is empty\n"
   ]
  },
  {
   "cell_type": "code",
   "execution_count": null,
   "metadata": {},
   "outputs": [],
   "source": [
    "class stack:\n",
    "    def __init__(self):\n",
    "        self.stack=[]\n",
    "    def pushitem(self,items):\n",
    "        self.stack.append(items)\n",
    "    def popitem(self):\n",
    "        print(self.stack.pop())\n",
    "    def items_in_stack(self):\n",
    "        for i in self.stack:\n",
    "            print(i)\n",
    "    def size_of_stack(self):\n",
    "        print(len(self.stack))\n",
    "    def top_item_of_stack(self):\n",
    "        print(self.stack[-1])\n",
    "    def stack_is_empty(self):\n",
    "        if len(self.stack)==0:\n",
    "            print(\"the stack is empty\")\n",
    "        else:\n",
    "            print(\"stack is not empty\")\n"
   ]
  },
  {
   "cell_type": "code",
   "execution_count": 2,
   "metadata": {},
   "outputs": [],
   "source": [
    "python = stack()"
   ]
  },
  {
   "cell_type": "code",
   "execution_count": 3,
   "metadata": {},
   "outputs": [],
   "source": [
    "\n",
    "def main():\n",
    "    stack = python()"
   ]
  },
  {
   "cell_type": "code",
   "execution_count": 1,
   "metadata": {},
   "outputs": [
    {
     "name": "stdout",
     "output_type": "stream",
     "text": [
      "Menu Of the Stack Class :\n",
      "1.Push Item\n",
      "2.Pop Item\n",
      "3.Print the Items in the stack\n",
      "4.Size of Stack\n",
      "5.The top item in the stack\n",
      "6.To check if the stack is empty\n",
      "7.Exit\n",
      "Enter a correct input\n",
      "Menu Of the Stack Class :\n",
      "1.Push Item\n",
      "2.Pop Item\n",
      "3.Print the Items in the stack\n",
      "4.Size of Stack\n",
      "5.The top item in the stack\n",
      "6.To check if the stack is empty\n",
      "7.Exit\n",
      "Enter a correct input\n",
      "Menu Of the Stack Class :\n",
      "1.Push Item\n",
      "2.Pop Item\n",
      "3.Print the Items in the stack\n",
      "4.Size of Stack\n",
      "5.The top item in the stack\n",
      "6.To check if the stack is empty\n",
      "7.Exit\n",
      "Enter a correct input\n",
      "Menu Of the Stack Class :\n",
      "1.Push Item\n",
      "2.Pop Item\n",
      "3.Print the Items in the stack\n",
      "4.Size of Stack\n",
      "5.The top item in the stack\n",
      "6.To check if the stack is empty\n",
      "7.Exit\n"
     ]
    }
   ],
   "source": [
    "while True:\n",
    "    print(\"Menu Of the Stack Class :\")\n",
    "    print(\"1.Push Item\")\n",
    "    print(\"2.Pop Item\")\n",
    "    print(\"3.Print the Items in the stack\")\n",
    "    print(\"4.Size of Stack\")\n",
    "    print(\"5.The top item in the stack\")\n",
    "    print(\"6.To check if the stack is empty\")\n",
    "    print(\"7.Exit\")\n",
    "    choice =int(input(\"enter your choice\"))\n",
    "    if choice==1:\n",
    "        item = input(\"Enter the item to push: \")\n",
    "        python.pushitem(item)\n",
    "        print(\"Item pushed into the stack\")\n",
    "    elif choice==2:\n",
    "        python.popitem()\n",
    "        print(\"Item is deleted from the stack\")\n",
    "    elif choice==3:\n",
    "        python.items_in_stack()\n",
    "        print(\"Here are all the items of the stack\")\n",
    "    elif choice==4:\n",
    "        python.size_of_stack()\n",
    "        print(\"Total NUmbers of items in the stack:\")\n",
    "    elif choice==5:\n",
    "        python.top_item_of_stack()\n",
    "        print(\"The top item in the stack is:\")\n",
    "    elif choice==6:\n",
    "        python.stack_is_empty()\n",
    "        print(\"The stack is empty or not\")\n",
    "    elif choice==7:\n",
    "        print(\"Exit\")\n",
    "        break\n",
    "    else:\n",
    "        print(\"Enter a correct input\")\n",
    "\n",
    "\n"
   ]
  },
  {
   "cell_type": "code",
   "execution_count": null,
   "metadata": {},
   "outputs": [],
   "source": [
    "python.pushitem(12)\n",
    "python.pushitem(85)\n",
    "python.pushitem(25)\n",
    "python.pushitem(\"Python Class\")\n",
    "python.pushitem(\"Stack Class\")"
   ]
  },
  {
   "cell_type": "code",
   "execution_count": null,
   "metadata": {},
   "outputs": [],
   "source": [
    "python.pushitem(\"Class-Stack\")\n",
    "python.pushitem(\"Class-Python\")\n",
    "python.pushitem(\"1.A stack is a linear data structure that stores items in a Last In First Out way\")\n",
    "python.pushitem(\"2.elements are added at one end and an element is deleted from that end only\")\n",
    "python.pushitem(\"3.The insert and delete operations are called push and pop operations\")"
   ]
  },
  {
   "cell_type": "code",
   "execution_count": null,
   "metadata": {},
   "outputs": [
    {
     "name": "stdout",
     "output_type": "stream",
     "text": [
      "12\n",
      "85\n",
      "25\n",
      "Python Class\n",
      "Stack Class\n",
      "Class-Stack\n",
      "Class-Python\n",
      "1.A stack is a linear data structure that stores items in a Last In First Out way\n",
      "2.elements are added at one end and an element is deleted from that end only\n",
      "3.The insert and delete operations are called push and pop operations\n"
     ]
    }
   ],
   "source": [
    "python.items_in_stack()"
   ]
  },
  {
   "cell_type": "code",
   "execution_count": null,
   "metadata": {},
   "outputs": [
    {
     "name": "stdout",
     "output_type": "stream",
     "text": [
      "10\n"
     ]
    }
   ],
   "source": [
    "python.size_of_stack()"
   ]
  },
  {
   "cell_type": "code",
   "execution_count": null,
   "metadata": {},
   "outputs": [
    {
     "name": "stdout",
     "output_type": "stream",
     "text": [
      "3.The insert and delete operations are called push and pop operations\n"
     ]
    }
   ],
   "source": [
    "python.top_item_of_stack()"
   ]
  },
  {
   "cell_type": "code",
   "execution_count": null,
   "metadata": {},
   "outputs": [
    {
     "name": "stdout",
     "output_type": "stream",
     "text": [
      "3.The insert and delete operations are called push and pop operations\n"
     ]
    }
   ],
   "source": [
    "python.popitem()"
   ]
  },
  {
   "cell_type": "code",
   "execution_count": null,
   "metadata": {},
   "outputs": [
    {
     "name": "stdout",
     "output_type": "stream",
     "text": [
      "12\n",
      "85\n",
      "25\n",
      "Python Class\n",
      "Stack Class\n",
      "Class-Stack\n",
      "Class-Python\n",
      "1.A stack is a linear data structure that stores items in a Last In First Out way\n",
      "2.elements are added at one end and an element is deleted from that end only\n"
     ]
    }
   ],
   "source": [
    "python.items_in_stack()"
   ]
  },
  {
   "cell_type": "code",
   "execution_count": null,
   "metadata": {},
   "outputs": [
    {
     "name": "stdout",
     "output_type": "stream",
     "text": [
      "9\n"
     ]
    }
   ],
   "source": [
    "python.size_of_stack()"
   ]
  },
  {
   "cell_type": "code",
   "execution_count": null,
   "metadata": {},
   "outputs": [
    {
     "name": "stdout",
     "output_type": "stream",
     "text": [
      "2.elements are added at one end and an element is deleted from that end only\n"
     ]
    }
   ],
   "source": [
    "python.top_item_of_stack()"
   ]
  },
  {
   "cell_type": "code",
   "execution_count": null,
   "metadata": {},
   "outputs": [
    {
     "name": "stdout",
     "output_type": "stream",
     "text": [
      "stack is not empty\n"
     ]
    }
   ],
   "source": [
    "python.stack_is_empty()"
   ]
  }
 ],
 "metadata": {
  "kernelspec": {
   "display_name": "Python 3",
   "language": "python",
   "name": "python3"
  },
  "language_info": {
   "codemirror_mode": {
    "name": "ipython",
    "version": 3
   },
   "file_extension": ".py",
   "mimetype": "text/x-python",
   "name": "python",
   "nbconvert_exporter": "python",
   "pygments_lexer": "ipython3",
   "version": "3.11.4"
  },
  "orig_nbformat": 4
 },
 "nbformat": 4,
 "nbformat_minor": 2
}
