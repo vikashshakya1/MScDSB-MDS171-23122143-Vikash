{
 "cells": [
  {
   "cell_type": "markdown",
   "metadata": {},
   "source": [
    "# As a data analyst specialist, gather insights from their customers' orders received for Farmers' Harvest in Freshville over time and display them to Emily as she uses your Application\n",
    "* Make use of functions & other programming constructs appropriately "
   ]
  },
  {
   "cell_type": "code",
   "execution_count": 2,
   "metadata": {},
   "outputs": [],
   "source": [
    "file_Order = open(\"order.txt\",\"w+\")\n",
    "file_Order.write(\"Today's order :\\n\")\n",
    "file_Order.close()\n",
    "\n"
   ]
  },
  {
   "cell_type": "code",
   "execution_count": 1,
   "metadata": {},
   "outputs": [
    {
     "name": "stdout",
     "output_type": "stream",
     "text": [
      "your details are saved\n"
     ]
    }
   ],
   "source": [
    "def farmers_harvest(name,item,quantity,price):\n",
    "    file_Order = open(\"orders.txt\",\"w\")\n",
    "    file_Order.write(\"\\n Name \\t:\\t\"+name)\n",
    "    file_Order.write(\"\\n item \\t:\\t\"+item)\n",
    "    file_Order.write(\"\\n price \\t:\\t\"+price)\n",
    "    file_Order.write(\"\\n quantity \\t:\\t\"+quantity)\n",
    "    file_Order.close()\n",
    "    return True\n",
    "name=input(\"enter your name\")\n",
    "item=input(\"enter your item\")\n",
    "quantity=input(\"enter your quantity\")\n",
    "price=input(\"enter your Price\")\n",
    "grocery=farmers_harvest(name,item,quantity,price)\n",
    "\n",
    "if grocery:\n",
    "    print(\"your details are saved\")\n",
    "else:\n",
    "    print(\"error\" )\n"
   ]
  },
  {
   "cell_type": "code",
   "execution_count": null,
   "metadata": {},
   "outputs": [],
   "source": [
    "Analysis Part :\n",
    "*regular project\n",
    "*product not selling \n",
    "*highest price\n",
    "*star product"
   ]
  },
  {
   "cell_type": "markdown",
   "metadata": {},
   "source": [
    "Here when we will enter all the details on the daily basis, then we get all the data then we can analyse all the data and we can get different kind of insights and we ca define all the things like\n",
    "which is the regular product that is consistent on the daily basis for examples there is grocery shop and their specific soap is consistant and we can also get different type of insights like which is the least soled product and which product is of the highest price and which is the star product of that particular grocery shop."
   ]
  }
 ],
 "metadata": {
  "kernelspec": {
   "display_name": "Python 3",
   "language": "python",
   "name": "python3"
  },
  "language_info": {
   "codemirror_mode": {
    "name": "ipython",
    "version": 3
   },
   "file_extension": ".py",
   "mimetype": "text/x-python",
   "name": "python",
   "nbconvert_exporter": "python",
   "pygments_lexer": "ipython3",
   "version": "3.11.4"
  },
  "orig_nbformat": 4
 },
 "nbformat": 4,
 "nbformat_minor": 2
}
