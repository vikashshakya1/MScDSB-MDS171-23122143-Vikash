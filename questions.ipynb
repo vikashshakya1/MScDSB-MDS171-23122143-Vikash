{
 "cells": [
  {
   "cell_type": "code",
   "execution_count": 1,
   "metadata": {},
   "outputs": [
    {
     "name": "stdout",
     "output_type": "stream",
     "text": [
      "16\n"
     ]
    }
   ],
   "source": [
    "def python(ls) :\n",
    "    sum = 0 \n",
    "    for i in ls :\n",
    "        sum = sum +i\n",
    "    return sum\n",
    "a = python([4,5,6,1])\n",
    "print(a)"
   ]
  },
  {
   "cell_type": "code",
   "execution_count": 2,
   "metadata": {},
   "outputs": [
    {
     "name": "stdout",
     "output_type": "stream",
     "text": [
      "10\n",
      "20\n",
      "40\n",
      "50\n",
      "60\n",
      "80\n",
      "90\n"
     ]
    }
   ],
   "source": [
    "lst = [10,20,40,50,60,80,90]\n",
    "for i in range(0,len(lst)):\n",
    "    print(lst[i])"
   ]
  },
  {
   "cell_type": "code",
   "execution_count": 3,
   "metadata": {},
   "outputs": [
    {
     "name": "stdout",
     "output_type": "stream",
     "text": [
      "10\n",
      "20\n",
      "40\n",
      "50\n",
      "60\n",
      "80\n",
      "90\n"
     ]
    }
   ],
   "source": [
    "lst = [10,20,40,50,60,80,90]\n",
    "for i in lst :\n",
    "    print(i)"
   ]
  },
  {
   "cell_type": "code",
   "execution_count": 1,
   "metadata": {},
   "outputs": [
    {
     "name": "stdout",
     "output_type": "stream",
     "text": [
      "10\n"
     ]
    }
   ],
   "source": [
    "def python(lst) :\n",
    "    sum = 0 \n",
    "    for i in lst:\n",
    "        sum = sum + int(i)\n",
    "    return sum\n",
    "numbers = input(\"enter a number\")\n",
    "num = numbers.split(\",\")\n",
    "a = python(num)\n",
    "print(a)"
   ]
  },
  {
   "cell_type": "code",
   "execution_count": 6,
   "metadata": {},
   "outputs": [
    {
     "name": "stdout",
     "output_type": "stream",
     "text": [
      "sum = 17\n"
     ]
    }
   ],
   "source": [
    "userinput = input(\"enter a list of numbers separated via comma\")\n",
    "#2,3,4,5,6\n",
    "array = userinput.strip().split(\",\")\n",
    "#[\"2\",\"3\",\"3\",\"5\",\"7\"]\n",
    "sum = python(array)\n",
    "print(\"sum =\",sum)"
   ]
  },
  {
   "cell_type": "markdown",
   "metadata": {},
   "source": [
    "Count the numbers odd and even numbers in the list and print the odd numbers count and even numbers count along with the numbers."
   ]
  },
  {
   "cell_type": "markdown",
   "metadata": {},
   "source": [
    "you will have a function that will take a list of numbers, then returns the count of odd numbers and even numbers and the new list of odd numbers and even numbers."
   ]
  },
  {
   "cell_type": "code",
   "execution_count": 16,
   "metadata": {},
   "outputs": [
    {
     "name": "stdout",
     "output_type": "stream",
     "text": [
      "Odd Numbers Count: 4\n",
      "Even Numbers Count: 4\n",
      "Odd Numbers: [7, 15, 31, 5]\n",
      "Even Numbers: [12, 24, 8, 42]\n"
     ]
    }
   ],
   "source": [
    "def count_odd_even(numbers):\n",
    "    odd_count = 0\n",
    "    even_count = 0\n",
    "    odd_numbers = []\n",
    "    even_numbers = []\n",
    "\n",
    "    for num in numbers:\n",
    "        if num % 2 == 0:\n",
    "            even_count += 1\n",
    "            even_numbers.append(num)\n",
    "        else:\n",
    "            odd_count += 1\n",
    "            odd_numbers.append(num)\n",
    "\n",
    "    return odd_count, even_count, odd_numbers, even_numbers\n",
    "\n",
    "# Example list of numbers\n",
    "number_list = [12, 7, 15, 24, 8, 31, 42, 5]\n",
    "\n",
    "odd_count, even_count, odd_numbers, even_numbers = count_odd_even(number_list)\n",
    "\n",
    "print(\"Odd Numbers Count:\", odd_count)\n",
    "print(\"Even Numbers Count:\", even_count)\n",
    "print(\"Odd Numbers:\", odd_numbers)\n",
    "print(\"Even Numbers:\", even_numbers)"
   ]
  },
  {
   "cell_type": "code",
   "execution_count": 17,
   "metadata": {},
   "outputs": [
    {
     "name": "stdout",
     "output_type": "stream",
     "text": [
      "Odd Numbers Count: 4\n",
      "Even Numbers Count: 4\n",
      "Odd Numbers: [7, 15, 31, 5]\n",
      "Even Numbers: [12, 24, 8, 42]\n"
     ]
    }
   ],
   "source": [
    "number_list = [12, 7, 15, 24, 8, 31, 42, 5]\n",
    "\n",
    "odd_count, even_count, odd_numbers, even_numbers = count_odd_even(number_list)\n",
    "\n",
    "print(\"Odd Numbers Count:\", odd_count)\n",
    "print(\"Even Numbers Count:\", even_count)\n",
    "print(\"Odd Numbers:\", odd_numbers)\n",
    "print(\"Even Numbers:\", even_numbers)"
   ]
  },
  {
   "cell_type": "code",
   "execution_count": null,
   "metadata": {},
   "outputs": [],
   "source": []
  }
 ],
 "metadata": {
  "kernelspec": {
   "display_name": "Python 3",
   "language": "python",
   "name": "python3"
  },
  "language_info": {
   "codemirror_mode": {
    "name": "ipython",
    "version": 3
   },
   "file_extension": ".py",
   "mimetype": "text/x-python",
   "name": "python",
   "nbconvert_exporter": "python",
   "pygments_lexer": "ipython3",
   "version": "3.11.4"
  },
  "orig_nbformat": 4
 },
 "nbformat": 4,
 "nbformat_minor": 2
}
