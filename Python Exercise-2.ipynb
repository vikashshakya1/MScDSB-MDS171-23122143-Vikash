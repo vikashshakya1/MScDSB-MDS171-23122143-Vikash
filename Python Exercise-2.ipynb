{
 "cells": [
  {
   "cell_type": "code",
   "execution_count": 11,
   "metadata": {},
   "outputs": [
    {
     "name": "stdout",
     "output_type": "stream",
     "text": [
      "{'OD0001': {'orderid': 'OD0001', 'itemName': 'PID0012', 'quantity': '10', 'price': '700'}, 'OD0002': {'orderid': 'OD0002', 'itemName': 'PID0013', 'quantity': '20', 'price': '400'}, 'OD0003': {'orderid': 'OD0003', 'itemName': 'PID0014', 'quantity': '60', 'price': '250'}, 'OD0004': {'orderid': 'OD0004', 'itemName': 'PID0015', 'quantity': '10', 'price': '1500'}, 'OD0005': {'orderid': 'OD0005', 'itemName': 'PID0016', 'quantity': '15', 'price': '2000'}, 'OD0006': {'orderid': 'OD0006', 'itemName': 'PID0017', 'quantity': '30', 'price': '400'}, 'OD0007': {'orderid': 'OD0007', 'itemName': 'PID0018', 'quantity': '5', 'price': '1000'}, 'OD0008': {'orderid': 'OD0008', 'itemName': 'PID0019', 'quantity': '20', 'price': '650'}, 'OD0009': {'orderid': 'OD0009', 'itemName': 'PID0020', 'quantity': '22', 'price': '550'}, 'OD0010': {'orderid': 'OD0010', 'itemName': 'PID0020', 'quantity': '40', 'price': '150'}}\n",
      "{}\n"
     ]
    }
   ],
   "source": [
    "class sportMart:\n",
    "    def __init__(self):\n",
    "        self.inventory = {}\n",
    "        self.orders = {}\n",
    "\n",
    "    def createOrder(self,OrderID,ItemName,Quantity,Price):\n",
    "        temp={\n",
    "            \"orderid\" : OrderID,\n",
    "            \"itemName\" : ItemName,\n",
    "            \"quantity\" : Quantity,\n",
    "            \"price\" : Price\n",
    "        }\n",
    "        self.orders[OrderID]=temp\n",
    "\n",
    "    def createInventoryItem(self,ProductId,ProductName,Quantity,Price):\n",
    "        temp={\n",
    "            \"Product Id\" : ProductId,\n",
    "            \"Product_Name\" : ProductName,\n",
    "            \"quantity\" : Quantity,\n",
    "            \"price\" : Price\n",
    "        }\n",
    "        self.inventory[ProductId] = temp\n",
    "\n",
    "    def printOrders(self):\n",
    "        print(self.orders)\n",
    "\n",
    "    def PrintInventory(self):\n",
    "        print(self.inventory)\n",
    "\n",
    "    def Update_Orders(self,OrderID,ItemName,Quantity,Price):\n",
    "        temp={\n",
    "            \"orderid\" : OrderID,\n",
    "            \"itemName\" : ItemName,\n",
    "            \"quantity\" : Quantity,\n",
    "            \"price\" : Price\n",
    "        }         #Create a menudriven program # Create new orders and update inventory #Export the final data to the fil\n",
    "        a=input(\"Enter the order id:\")\n",
    "        b=input(\"Enter the item name:\")\n",
    "        c=int(input(\"Enter the quantity:\"))\n",
    "        d=int(input(\"Enter the price of the item:\"))\n",
    "        temp[\"orderid\"]=a\n",
    "        temp[\"itemname\"]=b\n",
    "        temp[\"quantity\"]=c\n",
    "        temp[\"price\"]=d\n",
    "        temp.update(self.inventory)\n",
    "        print(self.inventory)\n",
    "        self.\n",
    "\n",
    "trinity = sportMart()\n",
    "orders = open(\"order.csv\",\"r+\")\n",
    "orders_header= orders.readline()\n",
    "orders_orders= orders.readlines()\n",
    "for item in orders_orders:\n",
    "temp=item.strip().split(',')\n",
    "trinity.createOrder(temp[0],temp[1],temp[2],temp[3])\n",
    "trinity.printOrders()\n",
    "\n",
    "while True:\n",
    "    choice=int(input(\"Enter your choice:\"))\n",
    "\n",
    "    if choice==1:\n",
    "        trinity.Update_Orders()\n",
    "    elif choice==2:\n",
    "        trinity.PrintInventory()\n",
    "    else:\n",
    "        Exit"
   ]
  },
  {
   "cell_type": "code",
   "execution_count": null,
   "metadata": {},
   "outputs": [],
   "source": []
  }
 ],
 "metadata": {
  "kernelspec": {
   "display_name": "Python 3",
   "language": "python",
   "name": "python3"
  },
  "language_info": {
   "codemirror_mode": {
    "name": "ipython",
    "version": 3
   },
   "file_extension": ".py",
   "mimetype": "text/x-python",
   "name": "python",
   "nbconvert_exporter": "python",
   "pygments_lexer": "ipython3",
   "version": "3.11.4"
  }
 },
 "nbformat": 4,
 "nbformat_minor": 2
}
