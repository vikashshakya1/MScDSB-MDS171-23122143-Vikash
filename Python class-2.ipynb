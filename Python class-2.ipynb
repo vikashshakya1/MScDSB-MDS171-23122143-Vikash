{
 "cells": [
  {
   "cell_type": "code",
   "execution_count": 47,
   "metadata": {},
   "outputs": [
    {
     "name": "stdout",
     "output_type": "stream",
     "text": [
      "[1, 2, 3]\n",
      "[1, 2, 3, 4]\n"
     ]
    }
   ],
   "source": [
    "L = [1,2,3]\n",
    "print(L)\n",
    "L.append(4)\n",
    "print(L)"
   ]
  },
  {
   "cell_type": "code",
   "execution_count": 48,
   "metadata": {},
   "outputs": [
    {
     "name": "stdout",
     "output_type": "stream",
     "text": [
      "[]\n"
     ]
    }
   ],
   "source": [
    "L = list()\n",
    "print(L)"
   ]
  },
  {
   "cell_type": "code",
   "execution_count": 49,
   "metadata": {},
   "outputs": [
    {
     "data": {
      "text/plain": [
       "'MyWorld'"
      ]
     },
     "execution_count": 49,
     "metadata": {},
     "output_type": "execute_result"
    }
   ],
   "source": [
    "#Pascal case\n",
    "'MyWorld'"
   ]
  },
  {
   "cell_type": "code",
   "execution_count": 50,
   "metadata": {},
   "outputs": [],
   "source": [
    "class MyAtm:\n",
    "    def __init__(self): #Constructor(It is special function)\n",
    "        self.pin = ''\n",
    "        self.balance = 50000\n",
    "        self .menu()\n",
    "    def menu(self):\n",
    "        user_input = input(\n",
    "        \"Hi,how can i help you?\"\n",
    "        \"1. Press 1 to create a new password\"\n",
    "        \"2. Press 2 to change your password\"\n",
    "        \"3. Press 3 to check your account balance\"\n",
    "        \"4. Press 4 to Withdraw\"   \n",
    "        \"5. Press Anything to exit\"                        \n",
    "        )\n",
    "        if user_input == '1':\n",
    "            self.create_password()\n",
    "        elif user_input == '2':\n",
    "            self.change_password()\n",
    "        elif user_input =='3':\n",
    "            self.check_balance()\n",
    "        elif user_input =='4':\n",
    "            pass\n",
    "        else:\n",
    "            pass\n",
    "    def create_password(self):\n",
    "        new_password = input(\"enter your brand new password\")\n",
    "        self.pin = new_password\n",
    "        print(\"pin created successfully\")\n",
    "        self.menu()\n",
    "    def change_password(self):\n",
    "       old_pin= input(\"Enter your old password\")\n",
    "       if old_pin == self.pin:\n",
    "           new_pin = input(\"enter your new pin\")\n",
    "           self.pin = new_pin\n",
    "           print(\"pin changed successfully\")\n",
    "           self.menu()\n",
    "       else:\n",
    "           print(\"Your Old Password is incorrect\")\n",
    "           self.menu()\n",
    "    def check_balance(self):\n",
    "        user_pin = input(\"enter your pin\")\n",
    "        if user_pin == self.pin:\n",
    "            print(\"The balance is\",self.balance)\n",
    "        else:\n",
    "            print(\"The Password is incorrect\")\n",
    "        self.menu()\n",
    "    def withdraw_amount(self):\n",
    "        user_pin = input(\"Enter your password\")\n",
    "        if user_pin == self.pin():\n",
    "            amount = int(input(\"Enter the amount\"))\n",
    "            if amount<=self.balance:\n",
    "                self.balance = self.balance-amount\n",
    "                print(\"The withdrawl is successfull\",self.balance)\n",
    "            else:\n",
    "                print(\"Password is incorrect\")\n",
    "        else:\n",
    "            print(\"The account balance is low\")\n",
    "        self.menu()\n",
    "\n",
    "\n",
    "\n",
    "\n",
    "\n",
    "\n",
    "\n"
   ]
  },
  {
   "cell_type": "code",
   "execution_count": 51,
   "metadata": {},
   "outputs": [
    {
     "name": "stdout",
     "output_type": "stream",
     "text": [
      "The Password is incorrect\n",
      "pin created successfully\n",
      "The balance is 50000\n"
     ]
    }
   ],
   "source": [
    "obj = MyAtm()"
   ]
  },
  {
   "cell_type": "code",
   "execution_count": null,
   "metadata": {},
   "outputs": [],
   "source": []
  }
 ],
 "metadata": {
  "kernelspec": {
   "display_name": "Python 3",
   "language": "python",
   "name": "python3"
  },
  "language_info": {
   "codemirror_mode": {
    "name": "ipython",
    "version": 3
   },
   "file_extension": ".py",
   "mimetype": "text/x-python",
   "name": "python",
   "nbconvert_exporter": "python",
   "pygments_lexer": "ipython3",
   "version": "3.11.4"
  }
 },
 "nbformat": 4,
 "nbformat_minor": 2
}
