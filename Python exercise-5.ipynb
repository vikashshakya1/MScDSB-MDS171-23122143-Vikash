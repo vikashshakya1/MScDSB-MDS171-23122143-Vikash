{
 "cells": [
  {
   "cell_type": "markdown",
   "metadata": {},
   "source": [
    "1. Load a csv , set new column name\n",
    "2. Rename column names (1 column , multiple column)\n",
    "3. Load a dataset , set one column as index column\n",
    "4. Split your dataset into multiple with respect to rows and columns \n",
    "5. Load the different files and merge them to find the files"
   ]
  },
  {
   "cell_type": "markdown",
   "metadata": {},
   "source": [
    "Question: -        \n",
    "    Write a python programme with the following specification:     \n",
    "        1.  There will be a function named \"create_dataset\" which will take a dictonary , filename and number of rows as arguments. The    dictonary is having the following structure:      \n",
    "        {       \n",
    "            \"column\" : [domains and values]     \n",
    "            \"column1\" : [domain and values]       \n",
    "                \"       \n",
    "        }     \n",
    "        2.  Your function will select random values for each of the domains and create a row for you.     \n",
    "        3.  The number of rows that has to be created is the parameter that has to be taken.       \n",
    "        4.  Save the file with the required number of rows.     \n",
    "        5.  Load this dataet using pandas and display basic information which includes the shap , size , datatype , info etc...       \n"
   ]
  },
  {
   "cell_type": "code",
   "execution_count": 11,
   "metadata": {},
   "outputs": [],
   "source": [
    "import random\n",
    "no_of_rows = int(input(\"Enter the total number of rows: \"))\n",
    "filename = input(\"Enter the filename: \")\n",
    "cars = {\n",
    "        \"mustang\" : [\"Shelby Mustang\" , \"Ford Mustang Mach 1\" , \"Ford Mustang\" , \"Ford Mustang Mach-E\" , \"Ford Mustang SVT Cobra\" , \"First Generation Ford Mustang\" , \"California Special Mustang\"],\n",
    "        \"Ferrari\" : [\"Ferrari Roma\" , \"Ferrari F8\" , \"Ferrari 812\" , \"Ferrari 296\" , \"Ferrari Portfino\" , \"Ferrari GTC4\" , \"Ferrari 250 GTO\"],\n",
    "        \"Lamborghini\" : [\"Lamborghini Aventador\" , \"Huracan\" , \"Lamborghini Urus\" , \"Lamborghini Gallardo\" , \"Lamborghini Murciélago\" , \"Sesto Elemento\" , \"Lamborghini Countach\"],\n",
    "        \"maserati\" : [\"Quattroporte\" , \"GranTurismo\" , \"Levante\" , \"Ghibli\" , \"MC20\" , \"Maserati GranCabrio\" , \"Maserati 3500 GT\"]\n",
    "    }\n",
    "def create_dataset(cars , no_of_rows , filename):\n",
    "    with open(filename , \"a+\")as file:\n",
    "        for i in cars:\n",
    "            file.write(i+\",\")\n",
    "        file.write(\"\\n\")\n",
    "        for i in range(no_of_rows):\n",
    "            for i in cars:\n",
    "                n1 = random.randint(0,6)\n",
    "                file.write(cars[i][n1]+\",\")\n",
    "            file.write(\"\\n\")\n",
    "    \n",
    "create_dataset(cars , no_of_rows , filename)\n"
   ]
  },
  {
   "cell_type": "code",
   "execution_count": 15,
   "metadata": {},
   "outputs": [
    {
     "name": "stdout",
     "output_type": "stream",
     "text": [
      "                    Ford Mustang    Ferrari F8        Lamborghini Urus  \\\n",
      "0  First Generation Ford Mustang    Ferrari F8    Lamborghini Countach   \n",
      "1            Ford Mustang Mach-E    Ferrari F8   Lamborghini Aventador   \n",
      "2  First Generation Ford Mustang   Ferrari 296    Lamborghini Gallardo   \n",
      "3  First Generation Ford Mustang  Ferrari GTC4  Lamborghini Murciélago   \n",
      "4                        mustang       Ferrari             Lamborghini   \n",
      "\n",
      "       Levante  Unnamed: 4  \n",
      "0      Levante         NaN  \n",
      "1  GranTurismo         NaN  \n",
      "2         MC20         NaN  \n",
      "3      Levante         NaN  \n",
      "4     maserati         NaN  \n"
     ]
    }
   ],
   "source": [
    "import pandas as pd\n",
    "df = pd.read_csv(\"cars.csv\" , header = 0)\n",
    "print(df.head())"
   ]
  },
  {
   "cell_type": "code",
   "execution_count": 13,
   "metadata": {},
   "outputs": [
    {
     "name": "stdout",
     "output_type": "stream",
     "text": [
      "   Ford Mustang  Ferrari F8  Lamborghini Urus  Levante  Unnamed: 4\n",
      "0         False       False             False    False        True\n",
      "1         False       False             False    False        True\n",
      "2         False       False             False    False        True\n",
      "3         False       False             False    False        True\n",
      "4         False       False             False    False        True\n",
      "5         False       False             False    False        True\n",
      "6         False       False             False    False        True\n",
      "7         False       False             False    False        True\n",
      "8         False       False             False    False        True\n",
      "9         False       False             False    False        True\n"
     ]
    }
   ],
   "source": [
    "print(df.isnull())"
   ]
  },
  {
   "cell_type": "code",
   "execution_count": 14,
   "metadata": {},
   "outputs": [
    {
     "name": "stdout",
     "output_type": "stream",
     "text": [
      "Ford Mustang         0\n",
      "Ferrari F8           0\n",
      "Lamborghini Urus     0\n",
      "Levante              0\n",
      "Unnamed: 4          10\n",
      "dtype: int64\n"
     ]
    }
   ],
   "source": [
    "print(df.isnull().sum())"
   ]
  },
  {
   "cell_type": "code",
   "execution_count": null,
   "metadata": {},
   "outputs": [],
   "source": []
  }
 ],
 "metadata": {
  "kernelspec": {
   "display_name": "Python 3",
   "language": "python",
   "name": "python3"
  },
  "language_info": {
   "codemirror_mode": {
    "name": "ipython",
    "version": 3
   },
   "file_extension": ".py",
   "mimetype": "text/x-python",
   "name": "python",
   "nbconvert_exporter": "python",
   "pygments_lexer": "ipython3",
   "version": "3.11.4"
  },
  "orig_nbformat": 4
 },
 "nbformat": 4,
 "nbformat_minor": 2
}
