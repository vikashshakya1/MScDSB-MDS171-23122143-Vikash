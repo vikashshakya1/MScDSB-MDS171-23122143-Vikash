{
 "cells": [
  {
   "cell_type": "code",
   "execution_count": 31,
   "metadata": {},
   "outputs": [],
   "source": [
    "#Restaurant\n",
    "#customers-> orderd(menu items)\n",
    "#collecting orders\n",
    "#billing\n",
    "#print bill\n",
    "#update order\n",
    "#search for an order"
   ]
  },
  {
   "cell_type": "code",
   "execution_count": 38,
   "metadata": {},
   "outputs": [],
   "source": [
    "import random\n",
    "class restaurant():\n",
    "    def __init__(self):\n",
    "        self.menu ={\n",
    "            \"rice\":30,\n",
    "            \"idli\":10\n",
    "        }\n",
    "        #orderid:{set of order details}\n",
    "        self.orders = {}\n",
    "    \n",
    "    def printMenu(self):\n",
    "        print(\"*\"*30)\n",
    "        print(\"the current options in the menu are\")\n",
    "        print(\"*\"*30)\n",
    "        print(self.menu)\n",
    "        print(\"*\"*30)\n",
    "    def generateOrderID(self):\n",
    "        orderid=\"\"\n",
    "        for i in range(1,6,1):\n",
    "            orderid+=str(random.randint(i,10))\n",
    "        return orderid\n",
    "    def totalbiiling(self):\n",
    "        \n",
    "\n",
    "    def collectOrder(self):\n",
    "        self.printMenu()   #print menu\n",
    "        phone = input(\"enter customer phone number\")\n",
    "        order={}\n",
    "        while True:\n",
    "            item = input(\"Enter the item that you want to order:\").strip().title()  #ask user to enter the values\n",
    "            qty = int(input(\"Enter the quantity of the item:\"))    #collect the value\n",
    "            order[item]=qty\n",
    "            choice = input(\"Do you want to complete the order?'yes'\")\n",
    "            if choice==\"yes\":\n",
    "                break\n",
    "        orderid = self.generateOrderID()  \n",
    "        self.orders[orderid] = {\n",
    "             \"Phone\": phone,\n",
    "             \"Order\": order\n",
    "        }\n",
    "\n",
    "    def update_the_order(self):\n",
    "\n",
    "    \n",
    "        print(self.orders)\n",
    "       \n",
    "        "
   ]
  },
  {
   "cell_type": "code",
   "execution_count": 39,
   "metadata": {},
   "outputs": [],
   "source": [
    "obj=restaurant()"
   ]
  },
  {
   "cell_type": "code",
   "execution_count": 40,
   "metadata": {},
   "outputs": [
    {
     "name": "stdout",
     "output_type": "stream",
     "text": [
      "******************************\n",
      "the current options in the menu are\n",
      "******************************\n",
      "{'rice': 30, 'idli': 10}\n",
      "******************************\n",
      "{'48478': {'Phone': '5454', 'Order': {'Rice': 5}}}\n"
     ]
    }
   ],
   "source": [
    "obj.collectOrder()"
   ]
  },
  {
   "cell_type": "code",
   "execution_count": null,
   "metadata": {},
   "outputs": [],
   "source": []
  },
  {
   "cell_type": "code",
   "execution_count": 41,
   "metadata": {},
   "outputs": [],
   "source": [
    "import random\n",
    "class resturant():\n",
    "\n",
    "  def _init_(self):\n",
    "    self.menu={\n",
    "        \"rice\":30,\n",
    "        \"idli\":10\n",
    "    }\n",
    "    # orderid:{set of details}\n",
    "    self.orders={}\n",
    "  def printMenu(self):\n",
    "    print(\"-\"*10)\n",
    "    print(\"The Menu\")\n",
    "    print(\"-\"*10)\n",
    "    print(self.menu)\n",
    "    print(\"-\"*10)\n",
    "\n",
    "  def gen_orderid(self):\n",
    "    orderid= \"\"\n",
    "    for i in range(1,5,1):\n",
    "      orderid+=str(random.randint(i,10))\n",
    "    return orderid\n",
    "\n",
    "  def collectOrder(self):\n",
    "    # print menu\n",
    "    self.printMenu()\n",
    "    # ask user to enter the value\n",
    "    phno=input(\"Enter the phone number: \") \n",
    "    order={}\n",
    "    while True:\n",
    "      item = input(\"Enter the item Name: \").strip().title()\n",
    "      qty = int(input(\"Tnter the quantity: \"))\n",
    "      order[item]=qty\n",
    "      choice = input(\"Do you want to Order more ? 'yes/no'\").strip().upper()\n",
    "      if choice == \"NO\":\n",
    "        break\n",
    "    orderid=self.gen_orderid()\n",
    "    self.orders[orderid]={\n",
    "        \"Phone\":phno,\n",
    "        \"Order\":order\n",
    "    }\n",
    "    # collect the value and update the order \n",
    "    # print the order  \n",
    "    print(self.orders)"
   ]
  },
  {
   "cell_type": "code",
   "execution_count": 42,
   "metadata": {},
   "outputs": [],
   "source": [
    "obj=restaurant()"
   ]
  },
  {
   "cell_type": "code",
   "execution_count": 43,
   "metadata": {},
   "outputs": [
    {
     "name": "stdout",
     "output_type": "stream",
     "text": [
      "******************************\n",
      "the current options in the menu are\n",
      "******************************\n",
      "{'rice': 30, 'idli': 10}\n",
      "******************************\n",
      "{'838610': {'Phone': '544798', 'Order': {'5': 5, 'Rice': 2}}}\n"
     ]
    }
   ],
   "source": [
    "obj.collectOrder()"
   ]
  },
  {
   "cell_type": "code",
   "execution_count": null,
   "metadata": {},
   "outputs": [],
   "source": []
  }
 ],
 "metadata": {
  "kernelspec": {
   "display_name": "Python 3",
   "language": "python",
   "name": "python3"
  },
  "language_info": {
   "codemirror_mode": {
    "name": "ipython",
    "version": 3
   },
   "file_extension": ".py",
   "mimetype": "text/x-python",
   "name": "python",
   "nbconvert_exporter": "python",
   "pygments_lexer": "ipython3",
   "version": "3.11.4"
  }
 },
 "nbformat": 4,
 "nbformat_minor": 2
}
