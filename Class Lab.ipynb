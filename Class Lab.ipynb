{
 "cells": [
  {
   "cell_type": "markdown",
   "metadata": {},
   "source": [
    "Create a sportsmat class,where you will have:\n",
    "inventory /shelf of items,\n",
    "Orders of customers,\n",
    "Create csv file which will store your inventory details and order details.With the help of file handling techniques in python read the files,\n",
    "create an object for trinity store and populate the inventory items and orders for the trinity object,\n",
    "To make sure that you have added all the items in your file, use a display method to show your inventory and order history.\n"
   ]
  },
  {
   "cell_type": "code",
   "execution_count": null,
   "metadata": {},
   "outputs": [],
   "source": [
    "class sportmat:\n",
    "    def __init__(self):\n",
    "        self.inventory = {}\n",
    "        self.order = {}\n",
    "\n",
    "    \n",
    "\n",
    "        \n",
    "\n",
    "    \n",
    "\n",
    "\n",
    "\n"
   ]
  }
 ],
 "metadata": {
  "kernelspec": {
   "display_name": "Python 3",
   "language": "python",
   "name": "python3"
  },
  "language_info": {
   "name": "python",
   "version": "3.11.4"
  }
 },
 "nbformat": 4,
 "nbformat_minor": 2
}
