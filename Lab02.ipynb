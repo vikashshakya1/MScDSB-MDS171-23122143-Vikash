{
 "cells": [
  {
   "cell_type": "code",
   "execution_count": 9,
   "metadata": {},
   "outputs": [
    {
     "name": "stdout",
     "output_type": "stream",
     "text": [
      "Number Entered was :  456\n",
      "Converted to word it becomes:  four five six \n"
     ]
    }
   ],
   "source": [
    "arr = ['zero','one','two','three','four','five','six','seven','eight','nine']\n",
    " \n",
    "def number_2_word(n):\n",
    "    if(n==0):\n",
    "        return \" \"\n",
    "     \n",
    "    else:\n",
    "        small_ans = arr[n%10]\n",
    "        ans = number_2_word(int(n/10)) + small_ans + \" \"\n",
    "    return ans\n",
    " \n",
    "n = int(input())\n",
    "print(\"Number Entered was : \", n)\n",
    "print(\"Converted to word it becomes: \",end=\"\")\n",
    "print(number_2_word(n))"
   ]
  },
  {
   "cell_type": "code",
   "execution_count": null,
   "metadata": {},
   "outputs": [],
   "source": []
  },
  {
   "cell_type": "code",
   "execution_count": null,
   "metadata": {},
   "outputs": [],
   "source": []
  }
 ],
 "metadata": {
  "kernelspec": {
   "display_name": "Python 3",
   "language": "python",
   "name": "python3"
  },
  "language_info": {
   "codemirror_mode": {
    "name": "ipython",
    "version": 3
   },
   "file_extension": ".py",
   "mimetype": "text/x-python",
   "name": "python",
   "nbconvert_exporter": "python",
   "pygments_lexer": "ipython3",
   "version": "3.11.4"
  },
  "orig_nbformat": 4
 },
 "nbformat": 4,
 "nbformat_minor": 2
}
